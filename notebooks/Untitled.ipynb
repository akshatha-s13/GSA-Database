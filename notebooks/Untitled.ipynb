{
 "cells": [
  {
   "cell_type": "code",
   "execution_count": null,
   "id": "muslim-childhood",
   "metadata": {},
   "outputs": [],
   "source": [
    "import os\n",
    "\n",
    "from sqlalchemy import and_, or_\n",
    "import pandas as pd\n",
    "pd.set_option(\"display.max_rows\", None)\n",
    "\n",
    "from gresq.config import Config\n",
    "from gresq.database.v1_1_0 import dal as db1     # prod dal\n",
    "from gresq.database import dal as db2            # test dal\n",
    "from gresq.database.v1_1_0 import Base as Base1  # prod base\n",
    "from gresq.database import Base as Base2         # test base\n",
    "\n",
    "from gresq.database.v1_1_0.models import Sample,Recipe\n",
    "\n"
   ]
  },
  {
   "cell_type": "code",
   "execution_count": null,
   "id": "informal-thomas",
   "metadata": {},
   "outputs": [],
   "source": [
    "# Setup old schema (production db) as db1 using read only\n",
    "config_prefix = \"PROD_DATABASE\"\n",
    "config_suffix = \"_READ\"\n",
    "conf = Config(prefix=config_prefix, suffix=config_suffix, debug=True, try_secrets=False)\n",
    "db1.init_db(conf, privileges={\"read\": True, \"write\": False, \"validate\": False})\n",
    "# Testing Configuration and dal initialization\n",
    "config_prefix = \"TEST_DATABASE\"\n",
    "config_suffix = \"_ADMIN\" \n",
    "conf = Config(prefix=config_prefix, suffix=config_suffix, debug=True, try_secrets=False)\n",
    "db2.init_db(conf, privileges={\"read\": True, \"write\": True, \"validate\": True})\n",
    "\n",
    "# 0) Stand up fresh empty db2\n",
    "ses2 = db2.Session()\n",
    "ses2.close()\n",
    "Base2.metadata.drop_all(bind=db2.engine)\n",
    "Base2.metadata.create_all(bind=db2.engine)"
   ]
  },
  {
   "cell_type": "code",
   "execution_count": null,
   "id": "genetic-benefit",
   "metadata": {},
   "outputs": [],
   "source": [
    "ses1 = db1.Session()\n",
    "pd.read_sql(\n",
    "    ses1.query(Sample)\n",
    "    .statement,\n",
    "    ses1.bind,\n",
    ")"
   ]
  },
  {
   "cell_type": "code",
   "execution_count": null,
   "id": "promotional-personal",
   "metadata": {
    "scrolled": true
   },
   "outputs": [],
   "source": [
    "# Test query for furnace data\n",
    "\n",
    "ses1 = db1.Session()\n",
    "pd.read_sql(\n",
    "    ses1.query(Recipe.tube_diameter, Recipe.cross_sectional_area, Recipe.tube_length)\n",
    "    .distinct()\n",
    "    .filter(\n",
    "        or_(\n",
    "            Recipe.tube_diameter != None,\n",
    "            Recipe.cross_sectional_area != None,\n",
    "            Recipe.tube_length != None,\n",
    "        )\n",
    "    )\n",
    "    .statement,\n",
    "    ses1.bind,\n",
    ")"
   ]
  },
  {
   "cell_type": "code",
   "execution_count": null,
   "id": "educational-abraham",
   "metadata": {},
   "outputs": [],
   "source": [
    "# Read all unique authors from old schema\n",
    "from gresq.database.v1_1_0.models import Author\n",
    "\n",
    "ses1 = db1.Session()\n",
    "pd.read_sql(\n",
    "    ses1.query(\n",
    "        Author.sample_id,Author.first_name, Author.last_name, Author.institution, Sample.experiment_date\n",
    "    ).filter(Author.sample_id==Sample.id)\n",
    "    .group_by(Author.sample_id,Author.first_name, Author.last_name)\n",
    "    .statement,\n",
    "    ses1.bind,\n",
    ")"
   ]
  },
  {
   "cell_type": "code",
   "execution_count": null,
   "id": "collectible-bhutan",
   "metadata": {},
   "outputs": [],
   "source": [
    "ses1 = db1.Session\n",
    "authors = ses1.query(\n",
    "    Author.sample_id, Author.first_name, Author.last_name, Author.institution\n",
    ").group_by(Author.first_name, Author.last_name)\n",
    "ses1.query(Sample.id,Sample.recipe.nanohub_id).filter(Sample.id.in_(authors))"
   ]
  },
  {
   "cell_type": "code",
   "execution_count": null,
   "id": "dressed-quest",
   "metadata": {},
   "outputs": [],
   "source": [
    "from gresq.database.v1_1_0.models import Author\n",
    "from gresq.database.models import Author as Author2\n",
    "from gresq.database.models import Furnace as Furnace2\n",
    "commit = False\n",
    "\n",
    "# Some migration steps\n",
    "\n",
    "# 1) Get unique authors from old prod db\n",
    "ses1 = db1.Session()\n",
    "# authors = ses1.query(Author.first_name, Author.last_name, Author.institution).distinct()\n",
    "\n",
    "authors = ses1.query(\n",
    "    Author.sample_id, Author.first_name, Author.last_name, Author.institution\n",
    ").group_by(Author.first_name, Author.last_name)\n",
    "\n",
    "\n",
    "# 2) Get unique furnace values\n",
    "furnaces = ses1.query(\n",
    "    Recipe.tube_diameter, Recipe.cross_sectional_area, Recipe.tube_length\n",
    ").distinct()\n",
    "\n",
    "if commit:\n",
    "    # Create new Authors records\n",
    "    new_authors = [\n",
    "        Author2(first_name=a.first_name, last_name=a.last_name, institution=a.institution)\n",
    "        for a in authors\n",
    "    ]\n",
    "    with db2.session_scope(autocommit=True) as ses2:\n",
    "        ses2.add_all(new_authors)\n",
    "        ses2.add_all(furnaces)"
   ]
  },
  {
   "cell_type": "code",
   "execution_count": null,
   "id": "medieval-tyler",
   "metadata": {},
   "outputs": [],
   "source": [
    "%env"
   ]
  },
  {
   "cell_type": "code",
   "execution_count": null,
   "id": "buried-gravity",
   "metadata": {},
   "outputs": [],
   "source": []
  }
 ],
 "metadata": {
  "kernelspec": {
   "display_name": "Python 3",
   "language": "python",
   "name": "python3"
  },
  "language_info": {
   "codemirror_mode": {
    "name": "ipython",
    "version": 3
   },
   "file_extension": ".py",
   "mimetype": "text/x-python",
   "name": "python",
   "nbconvert_exporter": "python",
   "pygments_lexer": "ipython3",
   "version": "3.8.5"
  }
 },
 "nbformat": 4,
 "nbformat_minor": 5
}
